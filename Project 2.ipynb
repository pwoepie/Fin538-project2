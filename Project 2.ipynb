{
 "cells": [
  {
   "cell_type": "markdown",
   "id": "686db22f-f171-4f31-8069-b7e0596b1e43",
   "metadata": {},
   "source": [
    "# Project 1"
   ]
  },
  {
   "cell_type": "markdown",
   "id": "9adf3c78-c311-4800-9d44-18a54e538501",
   "metadata": {},
   "source": [
    "### Question 1\n",
    "Estimate σ by computing the standard deviation of the EFFR changes. Report your estimate as a percent."
   ]
  },
  {
   "cell_type": "code",
   "execution_count": 1,
   "id": "c460b835-a157-4332-b483-aed540ce260c",
   "metadata": {},
   "outputs": [
    {
     "name": "stdout",
     "output_type": "stream",
     "text": [
      " σ is: 168.88%\n"
     ]
    }
   ],
   "source": [
    "import pandas as pd\n",
    "\n",
    "# Load the data file\n",
    "data = pd.ExcelFile(\"Project 2.xlsx\")\n",
    "\n",
    "# Parse the first sheet of the Excel file\n",
    "df = data.parse(\"Sheet1\")\n",
    "\n",
    "# Calculate the daily changes in the EFFR\n",
    "df[\"EFFR_Change\"] = df[\"EFFR\"].diff()\n",
    "\n",
    "# Compute the standard deviation of the EFFR changes to estimate σ\n",
    "sigma = df[\"EFFR_Change\"].std()\n",
    "\n",
    "# Convert the standard deviation to a percentage\n",
    "sigma_percent = sigma * 100\n",
    "\n",
    "# Print the result\n",
    "print(f\" σ is: {sigma_percent:.2f}%\")\n"
   ]
  },
  {
   "cell_type": "markdown",
   "id": "98c4772e-a519-429c-9fe1-1e8fd571b13a",
   "metadata": {},
   "source": [
    "### Question 2\n",
    "Estimate κ and θ by minimizing the sum of squares of the difference between the zero-coupon yield predicted by the model and the observed zero-coupon yield. Your each year, you will use the corresponding EFFR as a proxy for rt. Report the RMSE of your estimation and comment on whether the errors are significant or not."
   ]
  },
  {
   "cell_type": "code",
   "execution_count": 2,
   "id": "b3296af5-5335-4fc1-bca0-2ba42923f65c",
   "metadata": {},
   "outputs": [
    {
     "name": "stdout",
     "output_type": "stream",
     "text": [
      "Estimated κ (kappa): 0.7291\n",
      "Estimated θ (theta): 5.7079\n",
      "RMSE: 2.5641\n"
     ]
    }
   ],
   "source": [
    "import numpy as np\n",
    "from scipy.optimize import minimize\n",
    "\n",
    "# Vasicek model for zero-coupon yields\n",
    "def vasicek_yield(maturities, r, kappa, theta, sigma):\n",
    "    \"\"\"\n",
    "    maturities: array-like, time to maturity in years\n",
    "    r: float, current short-term interest rate\n",
    "    kappa: float, mean-reverting coefficient\n",
    "    theta: float, long-run interest rate\n",
    "    sigma: float, volatility of interest rate changes\n",
    "    \"\"\"\n",
    "    xi = (1 - np.exp(-kappa * maturities)) / (kappa * maturities)\n",
    "    yield_curve = theta * (1 - xi) - (sigma**2 / (2 * kappa**2)) * (1 - 2 * xi + xi**2) + xi * r\n",
    "    return yield_curve\n",
    "\n",
    "# Loss function for optimization\n",
    "def loss_function(params, maturities, observed_yields, short_rates):\n",
    "    \"\"\"\n",
    "    params: list of [kappa, theta]\n",
    "    maturities: array-like, time to maturity in years\n",
    "    observed_yields: 2D array, observed zero-coupon yields for all years\n",
    "    short_rates: 1D array, short-term interest rates (EFFR) for all years\n",
    "    \"\"\"\n",
    "    kappa, theta = params\n",
    "    sigma = observed_yields.std()\n",
    "    total_loss = 0\n",
    "    for i in range(len(short_rates)):\n",
    "        modeled_yields = vasicek_yield(maturities, short_rates[i], kappa, theta, sigma)\n",
    "        total_loss += np.sum((observed_yields[i, :] - modeled_yields)**2)\n",
    "    return total_loss\n",
    "\n",
    "# Extract maturities and data for all years\n",
    "maturities = np.array([1, 5, 10, 20, 30])\n",
    "observed_yields = df[[\"Y01\", \"Y05\", \"Y10\", \"Y20\", \"Y30\"]].values\n",
    "short_rates = df[\"EFFR\"].values\n",
    "\n",
    "# Initial guess for kappa and theta\n",
    "initial_guess = [0.1, 5.0]\n",
    "\n",
    "# Minimize the loss function using all data\n",
    "result = minimize(loss_function, initial_guess, args=(maturities, observed_yields, short_rates), bounds=[(0.01, 2), (0, 10)])\n",
    "\n",
    "# Optimal parameters\n",
    "kappa_opt, theta_opt = result.x\n",
    "\n",
    "# Compute RMSE\n",
    "sigma_est = observed_yields.std()\n",
    "rmse = np.sqrt(np.mean([\n",
    "    np.sum((observed_yields[i, :] - vasicek_yield(maturities, short_rates[i], kappa_opt, theta_opt, sigma_est))**2)\n",
    "    for i in range(len(short_rates))\n",
    "]))\n",
    "\n",
    "# Print results\n",
    "print(f\"Estimated κ (kappa): {kappa_opt:.4f}\")\n",
    "print(f\"Estimated θ (theta): {theta_opt:.4f}\")\n",
    "print(f\"RMSE: {rmse:.4f}\")\n"
   ]
  },
  {
   "cell_type": "code",
   "execution_count": 3,
   "id": "f9fc367c-1fd7-4608-b840-abadf2111055",
   "metadata": {},
   "outputs": [
    {
     "name": "stdout",
     "output_type": "stream",
     "text": [
      "T-statistic: -1.4730\n",
      "P-value: 0.1433\n",
      "The residuals are not significantly different from zero. The model fits well.\n"
     ]
    }
   ],
   "source": [
    "from scipy.stats import ttest_1samp\n",
    "\n",
    "# Calculate the residuals\n",
    "residuals = observed_yields.flatten() - np.array([\n",
    "    vasicek_yield(maturities, short_rates[i], kappa_opt, theta_opt, sigma_est)\n",
    "    for i in range(len(short_rates))\n",
    "]).flatten()\n",
    "\n",
    "# Perform t-test\n",
    "t_stat, p_value = ttest_1samp(residuals, 0)\n",
    "\n",
    "# Print results\n",
    "print(f\"T-statistic: {t_stat:.4f}\")\n",
    "print(f\"P-value: {p_value:.4f}\")\n",
    "\n",
    "# Determine the significance\n",
    "if p_value < 0.05:\n",
    "    print(\"The residuals are significantly different from zero. The model may not fit well.\")\n",
    "else:\n",
    "    print(\"The residuals are not significantly different from zero. The model fits well.\")\n"
   ]
  },
  {
   "cell_type": "markdown",
   "id": "76918274-d532-4937-a9ef-8edd8f1fd9a3",
   "metadata": {},
   "source": [
    "### Question 3\n",
    "For each of the years 2000, 2003, 2007, 2013, 2021 and 2023, generate a plot of the term-structure of zero-coupon yields predicted by the model as a function of maturity from 0 to 30 years. For each year, include the observed yields, and comment on how the model captures the observed term-structure of interest rates. In which year(s) the model struggles fitting the term-structure the most?"
   ]
  },
  {
   "cell_type": "code",
   "execution_count": null,
   "id": "dc28d76f-3519-41ef-b021-de6bed7b9840",
   "metadata": {},
   "outputs": [],
   "source": []
  },
  {
   "cell_type": "markdown",
   "id": "3dac8183-685b-4dd1-870c-9ba267c4e13f",
   "metadata": {},
   "source": [
    "### Question 4\n",
    "For the year 2024, generate a plot of the instantaneous futures and forward rates as a function of maturity from 0 to 30 years."
   ]
  },
  {
   "cell_type": "code",
   "execution_count": null,
   "id": "5aa3060a-d1d9-4e41-abb1-abcbd511326b",
   "metadata": {},
   "outputs": [],
   "source": []
  },
  {
   "cell_type": "markdown",
   "id": "f044f27a-02d7-437c-a2c7-ecfcbcb6941e",
   "metadata": {},
   "source": [
    "### Question 5\n",
    "Using the parameters estimated before, and the short-rate as of 11/22/2024, generate a graph of the probability density function of the instantaneous risk-free rate in 1, 5, 20 and 30 years from now."
   ]
  },
  {
   "cell_type": "code",
   "execution_count": null,
   "id": "d18ece39-08c2-4876-990c-267d7b16c6a1",
   "metadata": {},
   "outputs": [],
   "source": []
  }
 ],
 "metadata": {
  "kernelspec": {
   "display_name": "Python 3 (ipykernel)",
   "language": "python",
   "name": "python3"
  },
  "language_info": {
   "codemirror_mode": {
    "name": "ipython",
    "version": 3
   },
   "file_extension": ".py",
   "mimetype": "text/x-python",
   "name": "python",
   "nbconvert_exporter": "python",
   "pygments_lexer": "ipython3",
   "version": "3.12.4"
  }
 },
 "nbformat": 4,
 "nbformat_minor": 5
}
